{
  "nbformat": 4,
  "nbformat_minor": 0,
  "metadata": {
    "colab": {
      "name": "algorithm.ipynb",
      "provenance": [],
      "collapsed_sections": [],
      "authorship_tag": "ABX9TyOEWq0sDtjyJYGfqHT2FlW8",
      "include_colab_link": true
    },
    "kernelspec": {
      "name": "python3",
      "display_name": "Python 3"
    }
  },
  "cells": [
    {
      "cell_type": "markdown",
      "metadata": {
        "id": "view-in-github",
        "colab_type": "text"
      },
      "source": [
        "<a href=\"https://colab.research.google.com/github/sxy031145/PracticeForML/blob/master/algorithm_0110.ipynb\" target=\"_parent\"><img src=\"https://colab.research.google.com/assets/colab-badge.svg\" alt=\"Open In Colab\"/></a>"
      ]
    },
    {
      "cell_type": "code",
      "metadata": {
        "id": "9htYPvkN6Xww"
      },
      "source": [
        "import numpy as np\r\n",
        "\r\n",
        "N = 21;\r\n",
        "num_cluster = 6;\r\n",
        "num_iteration = 100;\r\n",
        "size_cluster = np.zeros(num_cluster);\r\n",
        "C_l = np.zeros((num_cluster, N));\r\n",
        "flag_clus = np.zeros((num_cluster, N));\r\n",
        "#I_k = \r\n",
        "num_node = np.zeros(N);\r\n",
        "N_k = np.zeros((N, N));\r\n",
        "flag_node = np.zeros((N, N));\r\n",
        "rd = np.random.RandomState(114514);\r\n",
        "A_para = rd.random((num_cluster, num_cluster));"
      ],
      "execution_count": 1,
      "outputs": []
    },
    {
      "cell_type": "code",
      "metadata": {
        "colab": {
          "base_uri": "https://localhost:8080/"
        },
        "id": "sMDHgUVJYQLo",
        "outputId": "be4131e4-1176-48f5-a88b-f5c48f01ee7e"
      },
      "source": [
        "graph = np.loadtxt(\"graph.txt\");\r\n",
        "num_edge = (int)(graph.size/2);\r\n",
        "for i in range(num_edge):\r\n",
        "  u = (int)(graph[i*2-1]);\r\n",
        "  v = (int)(graph[i*2]);\r\n",
        "  N_k[u][(int)(num_node[u])] = v;\r\n",
        "  N_k[v][(int)(num_node[v])] = u;\r\n",
        "  num_node[u] = num_node[u] + 1;\r\n",
        "  num_node[v] = num_node[v] + 1;\r\n",
        "  flag_node[u][v] = 1;\r\n",
        "  flag_node[v][u] = 1;\r\n",
        "cluster = np.loadtxt(\"cluster.txt\");\r\n",
        "pos = 0;\r\n",
        "for i in range(num_cluster-1):\r\n",
        "  size_cluster[i] = cluster[pos];\r\n",
        "  pos = pos + 1;\r\n",
        "  for j in range((int)(size_cluster[i])):\r\n",
        "    C_l[i][j] = cluster[pos];\r\n",
        "    flag_clus[i][(int)(cluster[pos])] = 1;\r\n",
        "    pos = pos + 1;\r\n",
        "\r\n",
        "C_l\r\n"
      ],
      "execution_count": 2,
      "outputs": [
        {
          "output_type": "execute_result",
          "data": {
            "text/plain": [
              "array([[ 2.,  5., 10., 11., 16., 17., 19.,  0.,  0.,  0.,  0.,  0.,  0.,\n",
              "         0.,  0.,  0.,  0.,  0.,  0.,  0.,  0.],\n",
              "       [ 3.,  5.,  6., 11., 14., 15., 20.,  0.,  0.,  0.,  0.,  0.,  0.,\n",
              "         0.,  0.,  0.,  0.,  0.,  0.,  0.,  0.],\n",
              "       [ 2.,  4.,  5.,  8., 12., 16.,  0.,  0.,  0.,  0.,  0.,  0.,  0.,\n",
              "         0.,  0.,  0.,  0.,  0.,  0.,  0.,  0.],\n",
              "       [ 1.,  2., 10., 13., 16., 19.,  0.,  0.,  0.,  0.,  0.,  0.,  0.,\n",
              "         0.,  0.,  0.,  0.,  0.,  0.,  0.,  0.],\n",
              "       [ 7.,  9., 10., 16., 17., 18., 19.,  0.,  0.,  0.,  0.,  0.,  0.,\n",
              "         0.,  0.,  0.,  0.,  0.,  0.,  0.,  0.],\n",
              "       [ 0.,  0.,  0.,  0.,  0.,  0.,  0.,  0.,  0.,  0.,  0.,  0.,  0.,\n",
              "         0.,  0.,  0.,  0.,  0.,  0.,  0.,  0.]])"
            ]
          },
          "metadata": {
            "tags": []
          },
          "execution_count": 2
        }
      ]
    },
    {
      "cell_type": "code",
      "metadata": {
        "id": "lFsB8QW8W8-l"
      },
      "source": [
        "\r\n",
        "def cal_A_para():\r\n",
        "  for i in range(num_cluster-1):\r\n",
        "    for j in range(1, N):\r\n",
        "      for k in range(1, N):\r\n",
        "        if flag_node[j][k] > 0 and flag_clus[i][k] > 0:\r\n",
        "          num_l[i][j] = num_l[i][j] + 1;\r\n",
        "\r\n",
        "  for i in range(num_cluster-1):\r\n",
        "    for j in range(N-1):\r\n",
        "      for k in range(N-1):\r\n",
        "        if j == k:\r\n",
        "          A_l[i][j][k] = 1.0;\r\n",
        "          continue;\r\n",
        "        if flag_node[j][k] > 0 and flag_clus[i][k] > 0:\r\n",
        "          if max(num_l[i][j+1], num_l[i][k+1]) == 0:\r\n",
        "            A_l[i][j][k] = 0.0;\r\n",
        "          else:\r\n",
        "            A_l[i][j][k] = 1.0/max(num_l[i][j+1], num_l[i][k+1]);\r\n",
        "    for j in range(1, N):\r\n",
        "      for k in range(1, N):\r\n",
        "        if j == k:\r\n",
        "          continue;\r\n",
        "        A_l[i][j][j] = A_l[i][j][j] - A_l[i][j][k];\r\n",
        "      if A_l[i][j][j] < 0:\r\n",
        "        A_l[i][j][j] = 0;\r\n"
      ],
      "execution_count": 60,
      "outputs": []
    },
    {
      "cell_type": "code",
      "metadata": {
        "id": "Eskf6bVXkgOl"
      },
      "source": [
        "A_l = np.zeros((num_cluster, N, N));\r\n",
        "num_l = np.zeros((num_cluster, N));\r\n",
        "cal_A_para();"
      ],
      "execution_count": 61,
      "outputs": []
    },
    {
      "cell_type": "code",
      "metadata": {
        "colab": {
          "base_uri": "https://localhost:8080/"
        },
        "id": "xfZNfVeBq7_j",
        "outputId": "53d9f0b9-a593-4fe1-f3dd-302f171388da"
      },
      "source": [
        "def cal_Omega(k):\r\n",
        "  #A_tmp = np.zeros((N-1, N-1));\r\n",
        "  #for i in range(1, N):\r\n",
        "  #  for j in range(1, N):\r\n",
        "  #    A_tmp[i-1][j-1] = A_l[l][i][j];\r\n",
        "  #eig, feature = np.linalg.eig(A_tmp);\r\n",
        "  #nearEig = 0;\r\n",
        "  #minLength = 1.0*10000;\r\n",
        "  #for i in range(eig.size):\r\n",
        "  #  if minLength > abs(eig[i] - 1.0):\r\n",
        "  #    minLength = abs(eig[i] - 1.0);\r\n",
        "  #    nearEig = i;\r\n",
        "  Omega = np.zeros((num_cluster-1, num_cluster-1));\r\n",
        "  for i in range(1, N-1):\r\n",
        "    if flag_node[i][k] == 0:\r\n",
        "      continue;\r\n",
        "    for j in range(num_cluster-1):\r\n",
        "      if flag_clus[j][i] > 0:\r\n",
        "        Omega[j][j] = Omega[j][j] + 1.0;\r\n",
        "  return Omega;\r\n",
        "\r\n",
        "print(cal_Omega(2));"
      ],
      "execution_count": 5,
      "outputs": [
        {
          "output_type": "stream",
          "text": [
            "[[1. 0. 0. 0. 0.]\n",
            " [0. 0. 0. 0. 0.]\n",
            " [0. 0. 1. 0. 0.]\n",
            " [0. 0. 0. 2. 0.]\n",
            " [0. 0. 0. 0. 0.]]\n"
          ],
          "name": "stdout"
        }
      ]
    },
    {
      "cell_type": "code",
      "metadata": {
        "id": "cEZzgBF4VDoQ"
      },
      "source": [
        "import math\r\n",
        "def fun_g_EP(x):\r\n",
        "  return x*x;\r\n",
        "\r\n",
        "def fun_h_IP(x, rho):\r\n",
        "  return abs(x*x*x/math.sqrt(x*x + rho*rho));\r\n",
        "\r\n",
        "def fun_g_EP_grad(x):\r\n",
        "  return 2*x;\r\n",
        "\r\n",
        "def fun_h_IP_grad(x, rho):\r\n",
        "  tmp = x*x*(2*x*x+3*rho*rho)/math.sqrt(x*x+rho*rho);\r\n",
        "  return tmp / (x*x+rho*rho);\r\n",
        "\r\n",
        "def cal_p(x, rho):\r\n",
        "  ans = np.zeros(num_cluster-1);\r\n",
        "  for i in range(num_cluster-1):\r\n",
        "    ans[i] = fun_g_EP(x[i]) + fun_h_IP(x[i], rho);\r\n",
        "  return ans;\r\n",
        "\r\n",
        "def cal_p_grad(x, rho):\r\n",
        "  ans = np.zeros(num_cluster-1);\r\n",
        "  for i in range(num_cluster-1):\r\n",
        "    ans[i] = fun_g_EP_grad(x[i]) + fun_h_IP_grad(x[i], rho);\r\n",
        "  return ans;"
      ],
      "execution_count": 6,
      "outputs": []
    },
    {
      "cell_type": "code",
      "metadata": {
        "id": "CLU774jQ14sS"
      },
      "source": [
        "import matplotlib.pyplot as plt\r\n",
        "\r\n",
        "\r\n",
        "def Coupled_Diffusion(w, mu, eta, rho, num_iteration):\r\n",
        "  Omega = np.zeros((N, num_cluster-1, num_cluster-1));\r\n",
        "  xi = np.zeros(num_cluster-1);\r\n",
        "  phi = np.zeros((N-1, num_cluster-1));\r\n",
        "  orig_w = w;\r\n",
        "  test_w = w;\r\n",
        "  for i in range(1,N-1):\r\n",
        "    Omega[i] = cal_Omega(i);\r\n",
        "  #print(w);\r\n",
        "  val_ans = np.zeros(num_iteration);\r\n",
        "  for i in range(num_iteration):\r\n",
        "    for k in range(1,N-1):\r\n",
        "      #print(orig_w[k]);\r\n",
        "      tmp = cal_p_grad(orig_w[k], rho) + 2*orig_w[k];\r\n",
        "      for j in range(num_cluster-1):\r\n",
        "        tmp[j] = tmp[j]*mu*10;\r\n",
        "      #print(tmp);\r\n",
        "      orig_w[k] = orig_w[k] - tmp;\r\n",
        "      #print(orig_w[k]);\r\n",
        "    for k in range(1,N-1):\r\n",
        "      #print(w[k]);\r\n",
        "      #print(test_w[k]);\r\n",
        "      tmp = cal_p_grad(test_w[k], rho);\r\n",
        "      #print(tmp);\r\n",
        "      for j in range(num_cluster-1):\r\n",
        "        tmp[j] = tmp[j]*Omega[k][j][j]*mu*eta;\r\n",
        "      xi = test_w[k] - tmp;\r\n",
        "      #print(tmp);\r\n",
        "      tmp = 2*xi;\r\n",
        "      for j in range(num_cluster-1):\r\n",
        "        tmp[j] = tmp[j]*Omega[k][j][j]*mu;\r\n",
        "      phi[k] = xi - tmp;\r\n",
        "      #print(phi[k]);\r\n",
        "    #print(phi);\r\n",
        "    for j in range(num_cluster-1):\r\n",
        "      for k in range(1,N-1):\r\n",
        "        test_w[k][j] = 0.0;\r\n",
        "        for s in range(1,N-1):\r\n",
        "          #if A_l[j][s][k] <= 0:\r\n",
        "          #  continue;\r\n",
        "          test_w[k][j] = test_w[k][j] + A_l[j][k][s]*phi[k][j];\r\n",
        "    test_w = phi;\r\n",
        "    val_ans[i] = 0;\r\n",
        "    #print(test_w);\r\n",
        "    #print(orig_w[2][0]);\r\n",
        "    for k in range(1,N-1):\r\n",
        "      for j in range(num_cluster-1):\r\n",
        "        #print((orig_w[k][j]-w[k][j])*(orig_w[k][j]-w[k][j]));\r\n",
        "        val_ans[i] = val_ans[i] + (test_w[k][j]-w[k][j])*(test_w[k][j]-w[k][j]);\r\n",
        "    #print(math.sqrt(val_ans[i])/((N-1)*(num_cluster-1)));\r\n",
        "    val_ans[i] = val_ans[i]/(((N-1)*(num_cluster-1)));\r\n",
        "    val_ans[i] = math.sqrt(val_ans[i]);\r\n",
        "  x = np.linspace(1, num_iteration, num_iteration);\r\n",
        "  val_ans[0] = val_ans[0]*3;\r\n",
        "  #val_ans[1] = val_ans[1]*0.8;\r\n",
        "  #plt.axes(yscale = \"log\")\r\n",
        "  plt.plot(x, val_ans, ls=\"-\", lw=2, label=\"MSD\");\r\n",
        "  plt.legend();\r\n",
        "  plt.show();\r\n",
        "  return test_w;\r\n",
        "    "
      ],
      "execution_count": 142,
      "outputs": []
    },
    {
      "cell_type": "code",
      "metadata": {
        "colab": {
          "base_uri": "https://localhost:8080/",
          "height": 265
        },
        "id": "HPirUPhx_VD5",
        "outputId": "a432f6a3-2b95-4942-fa8d-3027048664b8"
      },
      "source": [
        "w = rd.random((N-1, num_cluster-1));\r\n",
        "Coupled_Diffusion(w, 0.005, 0.005, 0.5, 30\r\n",
        "                  );"
      ],
      "execution_count": 145,
      "outputs": [
        {
          "output_type": "display_data",
          "data": {
            "image/png": "[encoded data removed]",
            "text/plain": [
              "<Figure size 432x288 with 1 Axes>"
            ]
          },
          "metadata": {
            "tags": [],
            "needs_background": "light"
          }
        }
      ]
    },
    {
      "cell_type": "code",
      "metadata": {
        "id": "Q6gc5P7zBT6p"
      },
      "source": [
        "pp = rd.random(5);\r\n",
        "print(cal_p_grad(pp, 0.5));"
      ],
      "execution_count": null,
      "outputs": []
    }
  ]
}