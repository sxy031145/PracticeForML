{
  "nbformat": 4,
  "nbformat_minor": 0,
  "metadata": {
    "colab": {
      "name": "algorithm.ipynb",
      "provenance": [],
      "collapsed_sections": [],
      "authorship_tag": "ABX9TyOaOnAo+MRXTL1iluHgp3v1",
      "include_colab_link": true
    },
    "kernelspec": {
      "name": "python3",
      "display_name": "Python 3"
    }
  },
  "cells": [
    {
      "cell_type": "markdown",
      "metadata": {
        "id": "view-in-github",
        "colab_type": "text"
      },
      "source": [
        "<a href=\"https://colab.research.google.com/github/sxy031145/PracticeForML/blob/master/algorithm.ipynb\" target=\"_parent\"><img src=\"https://colab.research.google.com/assets/colab-badge.svg\" alt=\"Open In Colab\"/></a>"
      ]
    },
    {
      "cell_type": "code",
      "metadata": {
        "id": "9htYPvkN6Xww"
      },
      "source": [
        "import numpy as np\r\n",
        "\r\n",
        "N = 21;\r\n",
        "num_cluster = 6;\r\n",
        "num_iteration = 100;\r\n",
        "size_cluster = np.zeros(num_cluster);\r\n",
        "C_l = np.zeros((num_cluster, N));\r\n",
        "flag_clus = np.zeros((num_cluster, N));\r\n",
        "#I_k = \r\n",
        "num_node = np.zeros(N);\r\n",
        "N_k = np.zeros((N, N));\r\n",
        "flag_node = np.zeros((N, N));\r\n",
        "rd = np.random.RandomState(114514);\r\n",
        "A_para = rd.random((num_cluster, num_cluster));"
      ],
      "execution_count": 1,
      "outputs": []
    },
    {
      "cell_type": "code",
      "metadata": {
        "colab": {
          "base_uri": "https://localhost:8080/"
        },
        "id": "sMDHgUVJYQLo",
        "outputId": "71de4943-914f-4e41-c82c-9b2e320d7fe4"
      },
      "source": [
        "graph = np.loadtxt(\"graph.txt\");\r\n",
        "num_edge = (int)(graph.size/2);\r\n",
        "for i in range(num_edge):\r\n",
        "  u = (int)(graph[i*2-1]);\r\n",
        "  v = (int)(graph[i*2]);\r\n",
        "  N_k[u][(int)(num_node[u])] = v;\r\n",
        "  N_k[v][(int)(num_node[v])] = u;\r\n",
        "  num_node[u] = num_node[u] + 1;\r\n",
        "  num_node[v] = num_node[v] + 1;\r\n",
        "  flag_node[u][v] = 1;\r\n",
        "  flag_node[v][u] = 1;\r\n",
        "cluster = np.loadtxt(\"cluster.txt\");\r\n",
        "pos = 0;\r\n",
        "for i in range(num_cluster-1):\r\n",
        "  size_cluster[i] = cluster[pos];\r\n",
        "  pos = pos + 1;\r\n",
        "  for j in range((int)(size_cluster[i])):\r\n",
        "    C_l[i][j] = cluster[pos];\r\n",
        "    flag_clus[i][(int)(cluster[pos])] = 1;\r\n",
        "    pos = pos + 1;\r\n",
        "\r\n",
        "C_l\r\n"
      ],
      "execution_count": 2,
      "outputs": [
        {
          "output_type": "execute_result",
          "data": {
            "text/plain": [
              "array([[ 2.,  5., 10., 11., 16., 17., 19.,  0.,  0.,  0.,  0.,  0.,  0.,\n",
              "         0.,  0.,  0.,  0.,  0.,  0.,  0.,  0.],\n",
              "       [ 3.,  5.,  6., 11., 14., 15., 20.,  0.,  0.,  0.,  0.,  0.,  0.,\n",
              "         0.,  0.,  0.,  0.,  0.,  0.,  0.,  0.],\n",
              "       [ 2.,  4.,  5.,  8., 12., 16.,  0.,  0.,  0.,  0.,  0.,  0.,  0.,\n",
              "         0.,  0.,  0.,  0.,  0.,  0.,  0.,  0.],\n",
              "       [ 1.,  2., 10., 13., 16., 19.,  0.,  0.,  0.,  0.,  0.,  0.,  0.,\n",
              "         0.,  0.,  0.,  0.,  0.,  0.,  0.,  0.],\n",
              "       [ 7.,  9., 10., 16., 17., 18., 19.,  0.,  0.,  0.,  0.,  0.,  0.,\n",
              "         0.,  0.,  0.,  0.,  0.,  0.,  0.,  0.],\n",
              "       [ 0.,  0.,  0.,  0.,  0.,  0.,  0.,  0.,  0.,  0.,  0.,  0.,  0.,\n",
              "         0.,  0.,  0.,  0.,  0.,  0.,  0.,  0.]])"
            ]
          },
          "metadata": {
            "tags": []
          },
          "execution_count": 2
        }
      ]
    },
    {
      "cell_type": "code",
      "metadata": {
        "id": "lFsB8QW8W8-l"
      },
      "source": [
        "\r\n",
        "def cal_A_para():\r\n",
        "  for i in range(num_cluster-1):\r\n",
        "    for j in range(1, N):\r\n",
        "      for k in range(1, N):\r\n",
        "        if flag_node[j][k] > 0 and flag_clus[i][k] > 0:\r\n",
        "          num_l[i][j] = num_l[i][j] + 1;\r\n",
        "\r\n",
        "  for i in range(num_cluster-1):\r\n",
        "    for j in range(N-1):\r\n",
        "      for k in range(N-1):\r\n",
        "        if j == k:\r\n",
        "          A_l[i][j][k] = 1.0;\r\n",
        "          continue;\r\n",
        "        if flag_node[j][k] > 0 and flag_clus[i][k] > 0:\r\n",
        "          if max(num_l[i][j+1], num_l[i][k+1]) == 0:\r\n",
        "            A_l[i][j][k] = 1.0;\r\n",
        "          else:\r\n",
        "            A_l[i][j][k] = 1.0/max(num_l[i][j+1], num_l[i][k+1]);\r\n",
        "    for j in range(1, N):\r\n",
        "      for k in range(1, N):\r\n",
        "        if j == k:\r\n",
        "          continue;\r\n",
        "        A_l[i][j][j] = A_l[i][j][j] - A_l[i][j][k];\r\n",
        "      if A_l[i][j][j] < 0:\r\n",
        "        A_l[i][j][j] = 0;\r\n"
      ],
      "execution_count": 5,
      "outputs": []
    },
    {
      "cell_type": "code",
      "metadata": {
        "id": "Eskf6bVXkgOl"
      },
      "source": [
        "A_l = np.zeros((num_cluster, N, N));\r\n",
        "num_l = np.zeros((num_cluster, N));\r\n",
        "cal_A_para();"
      ],
      "execution_count": 6,
      "outputs": []
    },
    {
      "cell_type": "code",
      "metadata": {
        "colab": {
          "base_uri": "https://localhost:8080/"
        },
        "id": "xfZNfVeBq7_j",
        "outputId": "e94363a0-0ee8-4d43-c8f1-58418eca3a75"
      },
      "source": [
        "def cal_Omega(k):\r\n",
        "  #A_tmp = np.zeros((N-1, N-1));\r\n",
        "  #for i in range(1, N):\r\n",
        "  #  for j in range(1, N):\r\n",
        "  #    A_tmp[i-1][j-1] = A_l[l][i][j];\r\n",
        "  #eig, feature = np.linalg.eig(A_tmp);\r\n",
        "  #nearEig = 0;\r\n",
        "  #minLength = 1.0*10000;\r\n",
        "  #for i in range(eig.size):\r\n",
        "  #  if minLength > abs(eig[i] - 1.0):\r\n",
        "  #    minLength = abs(eig[i] - 1.0);\r\n",
        "  #    nearEig = i;\r\n",
        "  Omega = np.zeros((num_cluster-1, num_cluster-1));\r\n",
        "  for i in range(1, N-1):\r\n",
        "    if flag_node[i][k] == 0:\r\n",
        "      continue;\r\n",
        "    for j in range(num_cluster-1):\r\n",
        "      if flag_clus[j][i] > 0:\r\n",
        "        Omega[j][j] = Omega[j][j] + 1.0;\r\n",
        "  return Omega;\r\n",
        "\r\n",
        "print(cal_Omega(2));"
      ],
      "execution_count": 7,
      "outputs": [
        {
          "output_type": "stream",
          "text": [
            "[[1. 0. 0. 0. 0.]\n",
            " [0. 0. 0. 0. 0.]\n",
            " [0. 0. 1. 0. 0.]\n",
            " [0. 0. 0. 2. 0.]\n",
            " [0. 0. 0. 0. 0.]]\n"
          ],
          "name": "stdout"
        }
      ]
    },
    {
      "cell_type": "code",
      "metadata": {
        "id": "cEZzgBF4VDoQ"
      },
      "source": [
        "import math\r\n",
        "def fun_g_EP(x):\r\n",
        "  return x*x;\r\n",
        "\r\n",
        "def fun_h_IP(x, rho):\r\n",
        "  return abs(x*x*x/math.sqrt(x*x + rho*rho));\r\n",
        "\r\n",
        "def fun_g_EP_grad(x):\r\n",
        "  return 2*x;\r\n",
        "\r\n",
        "def fun_h_IP_grad(x, rho):\r\n",
        "  tmp = x*x*(2*x*x+3*rho*rho)/math.sqrt(x*x+rho*rho);\r\n",
        "  return tmp / (x*x+rho*rho);\r\n",
        "\r\n",
        "def cal_p(x, rho):\r\n",
        "  ans = np.zeros(num_cluster-1);\r\n",
        "  for i in range(num_cluster-1):\r\n",
        "    ans[i] = fun_g_EP(x[i]) + fun_h_IP(x[i], rho);\r\n",
        "  return ans;\r\n",
        "\r\n",
        "def cal_p_grad(x, rho):\r\n",
        "  ans = np.zeros(num_cluster-1);\r\n",
        "  for i in range(num_cluster-1):\r\n",
        "    ans[i] = fun_g_EP_grad(x[i]) + fun_h_IP_grad(x[i], rho);\r\n",
        "  return ans;"
      ],
      "execution_count": 8,
      "outputs": []
    },
    {
      "cell_type": "code",
      "metadata": {
        "id": "zdMbZc3G3m1s"
      },
      "source": [
        "\r\n",
        "print(w);"
      ],
      "execution_count": null,
      "outputs": []
    },
    {
      "cell_type": "code",
      "metadata": {
        "id": "CLU774jQ14sS"
      },
      "source": [
        "def Coupled_Diffusion(w, mu, eta, rho, num_iteration):\r\n",
        "  Omega = np.zeros((N, num_cluster-1, num_cluster-1));\r\n",
        "  xi = np.zeros(num_cluster-1);\r\n",
        "  phi = np.zeros((N-1, num_cluster-1));\r\n",
        "  for i in range(1,N-1):\r\n",
        "    Omega[i] =cal_Omega(i);\r\n",
        "  #print(Omega);\r\n",
        "  for i in range(num_iteration):\r\n",
        "    for k in range(1,N-1):\r\n",
        "      #print(w[k]);\r\n",
        "      tmp = cal_p_grad(w[k], rho);\r\n",
        "      print(tmp);\r\n",
        "      for j in range(num_cluster-1):\r\n",
        "        tmp[j] = tmp[j]*Omega[k][j][j]*mu*eta;\r\n",
        "      xi = w[k] - tmp;\r\n",
        "      tmp = 2*xi;\r\n",
        "      for j in range(num_cluster-1):\r\n",
        "        tmp[j] = tmp[j]*Omega[k][j][j]*mu;\r\n",
        "      phi[k] = xi - tmp;\r\n",
        "    print(phi);\r\n",
        "    for j in range(num_cluster-1):\r\n",
        "      for k in range(1,N-1):\r\n",
        "        w[k][j] = 0.0;\r\n",
        "        for s in range(1,N-1):\r\n",
        "          if A_l[j][s][k] <= 0:\r\n",
        "            continue;\r\n",
        "          w[k][j] = w[k][j] + A_l[j][s][k]*phi[k][j];\r\n",
        "\r\n",
        "    print(w);\r\n",
        "  return w;\r\n",
        "    "
      ],
      "execution_count": 9,
      "outputs": []
    },
    {
      "cell_type": "code",
      "metadata": {
        "colab": {
          "base_uri": "https://localhost:8080/"
        },
        "id": "HPirUPhx_VD5",
        "outputId": "32b45882-8259-4e08-af43-ab30ae87a859"
      },
      "source": [
        "w = rd.random((N, num_cluster-1));\r\n",
        "Coupled_Diffusion(w, 0.01, 0.1, 0.5, 1);"
      ],
      "execution_count": 10,
      "outputs": [
        {
          "output_type": "stream",
          "text": [
            "[2.70122377 0.56889872 3.4359859  0.08015471 2.17532958]\n",
            "[3.81424956 1.59808896 2.24616521 2.17755187 0.38725094]\n",
            "[1.92637325 0.4367224  0.30200273 2.33044195 2.45895694]\n",
            "[0.53851211 0.08632981 0.10647693 2.8725271  3.32271029]\n",
            "[1.44567082 0.03083502 1.87424481 2.45896481 2.74700983]\n",
            "[2.39299409 0.1748446  2.96570373 2.4345408  1.04516667]\n",
            "[1.767866   0.29399628 0.1915683  2.24469759 3.81274135]\n",
            "[1.72460227 3.83634547 1.98295807 1.47968765 3.83185872]\n",
            "[0.39456233 1.18229752 3.34668048 3.17117152 2.43526312]\n",
            "[2.47784091 0.13134853 2.52473667 1.69608609 1.34766381]\n",
            "[1.31731943 0.28901461 0.71416109 0.52096521 2.3996296 ]\n",
            "[3.76183798 0.20433631 1.95130108 0.07159411 2.39954668]\n",
            "[2.25562001 0.4257521  1.93295997 0.38637785 3.78981322]\n",
            "[0.1136407  0.28108859 2.29397284 2.46204997 3.47841596]\n",
            "[1.81335994 1.43567208 2.99568224 0.6246598  0.69947456]\n",
            "[2.12273033 3.39756374 1.39040295 0.41852424 3.2461634 ]\n",
            "[0.04160323 2.68825174 2.89595509 0.59909592 0.28512308]\n",
            "[3.24304321 0.45938649 2.85213053 0.96479421 2.82159596]\n",
            "[0.75657093 1.51060263 2.05430625 1.92675916 1.7630097 ]\n",
            "[[0.         0.         0.         0.         0.        ]\n",
            " [0.6598275  0.18867924 0.82862588 0.03456896 0.55462355]\n",
            " [0.93938774 0.43373695 0.57087679 0.54171317 0.13906656]\n",
            " [0.50989185 0.14610807 0.11376362 0.60464236 0.63505043]\n",
            " [0.18068824 0.03783672 0.04569461 0.73376053 0.84249125]\n",
            " [0.37979334 0.01476405 0.49775777 0.604929   0.65370441]\n",
            " [0.60469277 0.06727533 0.75616523 0.62926319 0.3054106 ]\n",
            " [0.47304977 0.11129617 0.07792624 0.584428   0.93902728]\n",
            " [0.46301964 0.96778485 0.49835414 0.40637049 0.96668582]\n",
            " [0.13795411 0.33748474 0.84831219 0.80576054 0.59958125]\n",
            " [0.57924881 0.05501902 0.61979107 0.43490059 0.34949654]\n",
            " [0.36882391 0.10727369 0.22567589 0.17602547 0.62099656]\n",
            " [0.94954363 0.08229618 0.49132649 0.03261676 0.62097694]\n",
            " [0.57304918 0.15000125 0.49930356 0.13566044 0.93354847]\n",
            " [0.04952246 0.10244962 0.59603747 0.6357839  0.88035263]\n",
            " [0.483608   0.3868676  0.74518201 0.20309561 0.22201181]\n",
            " [0.51644325 0.86067812 0.37665638 0.13128847 0.76533268]\n",
            " [0.0187796  0.68962359 0.73938856 0.19200607 0.1012243 ]\n",
            " [0.80352444 0.15570934 0.71149134 0.28642566 0.68725918]\n",
            " [0.21987321 0.40376382 0.51421917 0.4858831  0.44966149]]\n",
            "[[0.26446211 0.83116038 0.6702179  0.03745168 0.27940741]\n",
            " [0.         0.18867924 0.         0.03456896 0.36974903]\n",
            " [1.87877548 0.43373695 1.14175357 0.54171317 0.13906656]\n",
            " [0.50989185 0.29221614 0.11376362 0.60464236 0.63505043]\n",
            " [0.18068824 0.         0.09138923 0.73376053 0.84249125]\n",
            " [0.88618445 0.02583709 1.74215218 0.         0.        ]\n",
            " [0.         0.20182598 0.75616523 0.62926319 0.3054106 ]\n",
            " [0.47304977 0.11129617 0.07792624 0.584428   0.93902728]\n",
            " [0.46301964 0.96778485 0.49835414 0.40637049 0.96668582]\n",
            " [0.10346558 0.33748474 0.84831219 0.80576054 0.59958125]\n",
            " [2.02737082 0.04126427 0.         1.73960236 0.9902402 ]\n",
            " [0.73764782 0.10727369 0.22567589 0.17602547 0.62099656]\n",
            " [0.94954363 0.08229618 0.98265299 0.03261676 0.62097694]\n",
            " [0.28652459 0.15000125 0.         0.13566044 0.62236565]\n",
            " [0.04952246 0.10244962 0.59603747 0.6357839  0.88035263]\n",
            " [0.483608   0.7737352  0.         0.20309561 0.22201181]\n",
            " [1.0328865  0.86067812 1.8832819  0.45950965 1.27555447]\n",
            " [0.0234745  0.68962359 0.73938856 0.         0.1012243 ]\n",
            " [0.53568296 0.11678201 0.35574567 0.28642566 1.03088877]\n",
            " [0.54968302 0.30282286 0.         1.4576493  1.04921015]\n",
            " [0.2510277  0.33206708 0.41449044 0.26096708 0.26305885]]\n"
          ],
          "name": "stdout"
        }
      ]
    },
    {
      "cell_type": "code",
      "metadata": {
        "id": "Q6gc5P7zBT6p"
      },
      "source": [
        "pp = rd.random(5);\r\n",
        "print(cal_p_grad(pp, 0.5));"
      ],
      "execution_count": null,
      "outputs": []
    }
  ]
}